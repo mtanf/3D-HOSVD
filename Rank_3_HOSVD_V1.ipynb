{
  "cells": [
    {
      "cell_type": "code",
      "execution_count": null,
      "id": "74c69f6d",
      "metadata": {
        "id": "74c69f6d"
      },
      "outputs": [],
      "source": [
        "import pandas as pd\n",
        "import numpy as np"
      ]
    },
    {
      "cell_type": "code",
      "execution_count": null,
      "id": "82609864",
      "metadata": {
        "id": "82609864"
      },
      "outputs": [],
      "source": [
        "#test tensor for flattening/unflattening functions\n",
        "x = np.array([ [[1, 2, 3],\n",
        "                [4, 5, 6],\n",
        "                [7, 8, 9]],\n",
        "              \n",
        "              [ [10, 11, 12],\n",
        "                [13, 14, 15],\n",
        "                [16, 17, 18]],\n",
        "              \n",
        "              \n",
        "             [  [19, 20, 21],\n",
        "                [22, 23, 24],\n",
        "                [25, 26, 27]],\n",
        "              \n",
        "              [ \n",
        "                [28, 29, 30],\n",
        "                [31, 32, 33],\n",
        "                [34, 35, 36]]\n",
        "                             ])\n",
        "#X_ijk = x[frame][frame_row][frame_col]"
      ]
    },
    {
      "cell_type": "code",
      "execution_count": null,
      "id": "b54e26d9",
      "metadata": {
        "id": "b54e26d9",
        "outputId": "186e1ef3-7d9c-4bb6-f1b8-e25acc634e8b"
      },
      "outputs": [
        {
          "data": {
            "text/plain": [
              "(4, 3, 3)"
            ]
          },
          "execution_count": 46,
          "metadata": {},
          "output_type": "execute_result"
        }
      ],
      "source": [
        "x.shape"
      ]
    },
    {
      "cell_type": "code",
      "execution_count": null,
      "id": "7141a95e",
      "metadata": {
        "id": "7141a95e"
      },
      "outputs": [],
      "source": [
        "def rank3_first_flattening(tensor):\n",
        "    #flattening of a tensor along the first component\n",
        "    \n",
        "    tensor_faces = tensor.shape[0]\n",
        "    face_rows = tensor.shape[1]\n",
        "    face_columns = tensor.shape[2]\n",
        "    \n",
        "    T1 = np.empty(shape = (face_rows, tensor_faces*face_columns))\n",
        "    \n",
        "    for row_idx in reversed(range(face_rows)):\n",
        "        flatten = []\n",
        "        for face_idx in reversed(range(tensor_faces)):\n",
        "            for col_idx in range(face_columns):\n",
        "            \n",
        "                flatten.append(tensor[face_idx][row_idx][col_idx])\n",
        "        T1[face_rows -(row_idx+1)] = flatten\n",
        "    \n",
        "    return T1"
      ]
    },
    {
      "cell_type": "code",
      "execution_count": null,
      "id": "a800ffda",
      "metadata": {
        "id": "a800ffda"
      },
      "outputs": [],
      "source": [
        "def rank3_second_flattening(tensor):\n",
        "    #flattening of a tensor along the second component\n",
        "    \n",
        "    tensor_faces = tensor.shape[0]\n",
        "    face_rows = tensor.shape[1]\n",
        "    face_columns = tensor.shape[2]\n",
        "    \n",
        "    T2 = np.empty(shape = (face_columns, face_rows*tensor_faces))\n",
        "    \n",
        "    for col_idx in range(face_columns):\n",
        "        flatten = []\n",
        "        for row_idx in reversed(range(face_rows)):\n",
        "            for face_idx in reversed(range(tensor_faces)):\n",
        "                flatten.append(tensor[face_idx][row_idx][col_idx])\n",
        "        \n",
        "        T2[col_idx] = flatten\n",
        "        \n",
        "    return T2"
      ]
    },
    {
      "cell_type": "code",
      "execution_count": null,
      "id": "084e560a",
      "metadata": {
        "id": "084e560a"
      },
      "outputs": [],
      "source": [
        "def rank3_third_flattening(tensor):\n",
        "    #flattening of a tensor along the third component\n",
        "    \n",
        "    tensor_faces = tensor.shape[0]\n",
        "    face_rows = tensor.shape[1]\n",
        "    face_columns = tensor.shape[2]\n",
        "    \n",
        "    T3 = np.empty(shape = (tensor_faces, face_rows*face_columns))\n",
        "    \n",
        "    for face_idx in reversed(range(tensor_faces)):\n",
        "        flatten = []\n",
        "        for row_idx in reversed(range(face_rows)):\n",
        "            for col_idx in range(face_columns):\n",
        "                flatten.append(tensor[face_idx][row_idx][col_idx])\n",
        "        \n",
        "        T3[tensor_faces - (face_idx +1)] = flatten\n",
        "        \n",
        "    return T3"
      ]
    },
    {
      "cell_type": "code",
      "execution_count": null,
      "id": "37d178a2",
      "metadata": {
        "id": "37d178a2"
      },
      "outputs": [],
      "source": [
        "#Rank 3 Tensor flattening\n",
        "def rank3_tensor_flattening(tensor):\n",
        "    \n",
        "    #computing first flattening\n",
        "    T1 = rank3_first_flattening(tensor)\n",
        "    \n",
        "    #computing second flattening\n",
        "    T2 = rank3_second_flattening(tensor)\n",
        "    \n",
        "    #computing third flattening\n",
        "    T3 = rank3_third_flattening(tensor)\n",
        "    \n",
        "    return T1, T2, T3"
      ]
    },
    {
      "cell_type": "code",
      "execution_count": null,
      "id": "4fe4d51e",
      "metadata": {
        "id": "4fe4d51e"
      },
      "outputs": [],
      "source": [
        "def rank3_first_unflattening(flattened_tensor, original_tensor):\n",
        "    #function that takes T(1) and computes its unflattening to the original tensor dimensions\n",
        "    \n",
        "    tensor_faces = original_tensor.shape[0]\n",
        "    face_rows = original_tensor.shape[1]\n",
        "    face_columns = original_tensor.shape[2]\n",
        "    \n",
        "    M1 = np.empty(shape = original_tensor.shape)\n",
        "    \n",
        "    for row_idx in reversed(range(face_rows)):\n",
        "        for face_idx in range(tensor_faces):\n",
        "            M1[tensor_faces - (face_idx+1)][face_rows - (row_idx+1)] = flattened_tensor[row_idx][face_idx*face_columns:face_columns*(face_idx+1)]\n",
        "            \n",
        "    return M1"
      ]
    },
    {
      "cell_type": "code",
      "execution_count": null,
      "id": "02acceee",
      "metadata": {
        "id": "02acceee"
      },
      "outputs": [],
      "source": [
        "def rank3_second_unflattening(flattened_tensor, original_tensor):\n",
        "    #function that takes T(2) and computes its unflattening to the original tensor dimensions\n",
        "    \n",
        "    tensor_faces = original_tensor.shape[0]\n",
        "    face_rows = original_tensor.shape[1]\n",
        "    face_columns = original_tensor.shape[2]\n",
        "    \n",
        "    flattened_columns = flattened_tensor.shape[1]\n",
        "    \n",
        "    M2 = np.empty(shape = original_tensor.shape)\n",
        "    \n",
        "    for face_idx in range(tensor_faces):\n",
        "        \n",
        "        for row_idx in range(face_rows):\n",
        "            \n",
        "            M2[face_idx][row_idx] = flattened_tensor[:, (flattened_columns-face_idx) - (row_idx*tensor_faces+1)]\n",
        "    \n",
        "    return M2"
      ]
    },
    {
      "cell_type": "code",
      "execution_count": null,
      "id": "67089888",
      "metadata": {
        "id": "67089888"
      },
      "outputs": [],
      "source": [
        "def rank3_third_unflattening(flattened_tensor, original_tensor):\n",
        "    #function that takes T(3) and computes its unflattening to the original tensor dimensions\n",
        "    \n",
        "    tensor_faces = original_tensor.shape[0]\n",
        "    face_rows = original_tensor.shape[1]\n",
        "    face_columns = original_tensor.shape[2]\n",
        "    \n",
        "    M3 = np.empty(shape = original_tensor.shape)\n",
        "    \n",
        "    for face_idx in reversed(range(tensor_faces)):\n",
        "        rebuilt_face = []\n",
        "        for col_idx in reversed(range(face_columns)):\n",
        "            #print(flattened_tensor[face_idx][col_idx*face_columns:col_idx*face_columns + face_columns])\n",
        "            rebuilt_face.append(flattened_tensor[face_idx][col_idx*face_columns:col_idx*face_columns + face_columns])\n",
        "        M3[tensor_faces - (face_idx + 1)] = rebuilt_face\n",
        "    \n",
        "    return M3"
      ]
    },
    {
      "cell_type": "code",
      "execution_count": null,
      "id": "40754e05",
      "metadata": {
        "id": "40754e05"
      },
      "outputs": [],
      "source": [
        "def get_core_tensor(tensor, U1, U2, U3):\n",
        "    #S = T x1 (U1)^t x2 (U2)^t x3 (U3)^t\n",
        "    #formula taken from: \n",
        "    #Berkant Savas, Lars Eldén: Handwritten digit classification using higher order singular value decomposition\n",
        "    #https://doi.org/10.1016/j.patcog.2006.08.004\n",
        "    \n",
        "    #compute transposed u1, u2, u3\n",
        "    U1t = np.transpose(U1)\n",
        "    U2t = np.transpose(U2)\n",
        "    U3t = np.transpose(U3)\n",
        "    \n",
        "    #computing the T(1) flattening\n",
        "    T1 = rank3_first_flattening(tensor)\n",
        "    \n",
        "    #computing T x1 (U1)^t which is T1 dot U1\n",
        "    p1 = np.matmul(U1t, T1)\n",
        "    \n",
        "    #the product p1 has to be unflattened\n",
        "    #it is a product along the first component\n",
        "    up1 = rank3_first_unflattening(p1, tensor)\n",
        "    \n",
        "    #computing the second compontent flattening of p1\n",
        "    Fup1 = rank3_second_flattening(up1)\n",
        "    \n",
        "    #computing p2 = p1 x2 (U2)^t = T x1 (U1)^t x2 (U2)^t\n",
        "    p2 = np.matmul(U2t, Fup1)\n",
        "    \n",
        "    #the product p2 has to be unflattened\n",
        "    #it is a product along the second component\n",
        "    up2 = rank3_second_unflattening(p2, up1)\n",
        "    \n",
        "    #computing the third compontent flattening of p2\n",
        "    Fup2 = rank3_third_flattening(up2)\n",
        "    \n",
        "    #computing S = p2 x3 (U3)^t\n",
        "    S = np.matmul(U3t, Fup2)\n",
        "    \n",
        "    #S must be unflattened\n",
        "    #it is a product along the third component\n",
        "    US = rank3_third_unflattening(S, up2)\n",
        "    \n",
        "    #rounding to improve readability of the result\n",
        "    US = np.around(US, decimals = 2)\n",
        "    \n",
        "    return(US)\n",
        "    \n",
        "    "
      ]
    },
    {
      "cell_type": "code",
      "execution_count": null,
      "id": "14e23584",
      "metadata": {
        "id": "14e23584"
      },
      "outputs": [],
      "source": []
    },
    {
      "cell_type": "code",
      "execution_count": null,
      "id": "695f324e",
      "metadata": {
        "id": "695f324e"
      },
      "outputs": [],
      "source": []
    },
    {
      "cell_type": "code",
      "execution_count": null,
      "id": "cd27af64",
      "metadata": {
        "id": "cd27af64"
      },
      "outputs": [],
      "source": [
        "#testing on x of all the functions"
      ]
    },
    {
      "cell_type": "code",
      "execution_count": null,
      "id": "ea8dec29",
      "metadata": {
        "id": "ea8dec29"
      },
      "outputs": [],
      "source": [
        "T1, T2, T3 = rank3_tensor_flattening(x)"
      ]
    },
    {
      "cell_type": "code",
      "execution_count": null,
      "id": "d276d521",
      "metadata": {
        "id": "d276d521"
      },
      "outputs": [],
      "source": [
        "#making SVD on each flattening using numpy matrices\n",
        "u1, s1, vt1 = np.linalg.svd(T1, full_matrices = True)\n",
        "u2, s2, vt2 = np.linalg.svd(T2, full_matrices = True)\n",
        "u3, s3, vt3 = np.linalg.svd(T3, full_matrices = True)"
      ]
    },
    {
      "cell_type": "code",
      "execution_count": null,
      "id": "02d0afc1",
      "metadata": {
        "scrolled": true,
        "id": "02d0afc1",
        "outputId": "8f137c73-e36a-49fe-ced6-9dbfb0822ae3"
      },
      "outputs": [
        {
          "name": "stdout",
          "output_type": "stream",
          "text": [
            "[[-0.64633822  0.64465514  0.40824829]\n",
            " [-0.57435051 -0.05877771 -0.81649658]\n",
            " [-0.50236281 -0.76221056  0.40824829]]\n"
          ]
        }
      ],
      "source": [
        "print(u1)"
      ]
    },
    {
      "cell_type": "code",
      "execution_count": null,
      "id": "ebfecf72",
      "metadata": {
        "id": "ebfecf72",
        "outputId": "bd3271ab-2e98-4431-9637-8cd2913eae54"
      },
      "outputs": [
        {
          "name": "stdout",
          "output_type": "stream",
          "text": [
            "[[-0.55326743  0.72610501  0.40824829]\n",
            " [-0.57702433  0.01939742 -0.81649658]\n",
            " [-0.60078122 -0.68731016  0.40824829]]\n"
          ]
        }
      ],
      "source": [
        "print(u2)"
      ]
    },
    {
      "cell_type": "code",
      "execution_count": null,
      "id": "db33ca09",
      "metadata": {
        "id": "db33ca09",
        "outputId": "8b08f4ea-c256-4495-c824-e3c4c5ed29a1"
      },
      "outputs": [
        {
          "name": "stdout",
          "output_type": "stream",
          "text": [
            "[[-0.7575467   0.35513799 -0.43507823  0.33272652]\n",
            " [-0.5463285  -0.03905342  0.82810401 -0.1193472 ]\n",
            " [-0.3351103  -0.43324484 -0.35097333 -0.75948517]\n",
            " [-0.12389209 -0.82743625 -0.04205245  0.54610584]]\n"
          ]
        }
      ],
      "source": [
        "print(u3)"
      ]
    },
    {
      "cell_type": "code",
      "execution_count": null,
      "id": "66e1dcc9",
      "metadata": {
        "id": "66e1dcc9",
        "outputId": "22b432f0-b744-41b2-8926-ee50d01b2dd9"
      },
      "outputs": [
        {
          "name": "stdout",
          "output_type": "stream",
          "text": [
            "[[34. 35. 36. 25. 26. 27. 16. 17. 18.  7.  8.  9.]\n",
            " [31. 32. 33. 22. 23. 24. 13. 14. 15.  4.  5.  6.]\n",
            " [28. 29. 30. 19. 20. 21. 10. 11. 12.  1.  2.  3.]]\n"
          ]
        }
      ],
      "source": [
        "print(T1)"
      ]
    },
    {
      "cell_type": "code",
      "execution_count": null,
      "id": "3612ff0f",
      "metadata": {
        "id": "3612ff0f",
        "outputId": "8f25efa0-137b-448c-d2fd-8d4c091e1715"
      },
      "outputs": [
        {
          "data": {
            "text/plain": [
              "array([[[ 1.,  2.,  3.],\n",
              "        [ 4.,  5.,  6.],\n",
              "        [ 7.,  8.,  9.]],\n",
              "\n",
              "       [[10., 11., 12.],\n",
              "        [13., 14., 15.],\n",
              "        [16., 17., 18.]],\n",
              "\n",
              "       [[19., 20., 21.],\n",
              "        [22., 23., 24.],\n",
              "        [25., 26., 27.]],\n",
              "\n",
              "       [[28., 29., 30.],\n",
              "        [31., 32., 33.],\n",
              "        [34., 35., 36.]]])"
            ]
          },
          "execution_count": 61,
          "metadata": {},
          "output_type": "execute_result"
        }
      ],
      "source": [
        "rank3_first_unflattening(T1, x)"
      ]
    },
    {
      "cell_type": "code",
      "execution_count": null,
      "id": "94815200",
      "metadata": {
        "id": "94815200",
        "outputId": "8bc64e74-d9c8-458a-8b73-6fc5ec233160"
      },
      "outputs": [
        {
          "name": "stdout",
          "output_type": "stream",
          "text": [
            "[[34. 25. 16.  7. 31. 22. 13.  4. 28. 19. 10.  1.]\n",
            " [35. 26. 17.  8. 32. 23. 14.  5. 29. 20. 11.  2.]\n",
            " [36. 27. 18.  9. 33. 24. 15.  6. 30. 21. 12.  3.]]\n"
          ]
        }
      ],
      "source": [
        "print(T2)"
      ]
    },
    {
      "cell_type": "code",
      "execution_count": null,
      "id": "49fc1cac",
      "metadata": {
        "id": "49fc1cac",
        "outputId": "96cc85f4-5bbf-4e62-96f6-2ae5317a5083"
      },
      "outputs": [
        {
          "data": {
            "text/plain": [
              "array([[[ 1.,  2.,  3.],\n",
              "        [ 4.,  5.,  6.],\n",
              "        [ 7.,  8.,  9.]],\n",
              "\n",
              "       [[10., 11., 12.],\n",
              "        [13., 14., 15.],\n",
              "        [16., 17., 18.]],\n",
              "\n",
              "       [[19., 20., 21.],\n",
              "        [22., 23., 24.],\n",
              "        [25., 26., 27.]],\n",
              "\n",
              "       [[28., 29., 30.],\n",
              "        [31., 32., 33.],\n",
              "        [34., 35., 36.]]])"
            ]
          },
          "execution_count": 63,
          "metadata": {},
          "output_type": "execute_result"
        }
      ],
      "source": [
        "rank3_second_unflattening(T2, x)"
      ]
    },
    {
      "cell_type": "code",
      "execution_count": null,
      "id": "008ccc91",
      "metadata": {
        "id": "008ccc91",
        "outputId": "e77bc825-c9a0-45af-f827-44863e3caff9"
      },
      "outputs": [
        {
          "name": "stdout",
          "output_type": "stream",
          "text": [
            "[[34. 35. 36. 31. 32. 33. 28. 29. 30.]\n",
            " [25. 26. 27. 22. 23. 24. 19. 20. 21.]\n",
            " [16. 17. 18. 13. 14. 15. 10. 11. 12.]\n",
            " [ 7.  8.  9.  4.  5.  6.  1.  2.  3.]]\n"
          ]
        }
      ],
      "source": [
        "print(T3)"
      ]
    },
    {
      "cell_type": "code",
      "execution_count": null,
      "id": "7794a9e0",
      "metadata": {
        "id": "7794a9e0",
        "outputId": "d95c9eb1-2fb8-4fd4-b423-b6bdd47f1891"
      },
      "outputs": [
        {
          "data": {
            "text/plain": [
              "array([[[ 1.,  2.,  3.],\n",
              "        [ 4.,  5.,  6.],\n",
              "        [ 7.,  8.,  9.]],\n",
              "\n",
              "       [[10., 11., 12.],\n",
              "        [13., 14., 15.],\n",
              "        [16., 17., 18.]],\n",
              "\n",
              "       [[19., 20., 21.],\n",
              "        [22., 23., 24.],\n",
              "        [25., 26., 27.]],\n",
              "\n",
              "       [[28., 29., 30.],\n",
              "        [31., 32., 33.],\n",
              "        [34., 35., 36.]]])"
            ]
          },
          "execution_count": 65,
          "metadata": {},
          "output_type": "execute_result"
        }
      ],
      "source": [
        "rank3_third_unflattening(T3, x)"
      ]
    },
    {
      "cell_type": "code",
      "execution_count": null,
      "id": "c2947b4e",
      "metadata": {
        "id": "c2947b4e"
      },
      "outputs": [],
      "source": [
        "#testing core tensor function\n",
        "core_tensor = get_core_tensor(x, u1, u2, u3)"
      ]
    },
    {
      "cell_type": "code",
      "execution_count": null,
      "id": "682a4d67",
      "metadata": {
        "id": "682a4d67",
        "outputId": "bbf056cf-fc1c-4a6f-8fab-e762c376d2e1"
      },
      "outputs": [
        {
          "data": {
            "text/plain": [
              "array([[[ 0.0000e+00,  0.0000e+00,  0.0000e+00],\n",
              "        [ 0.0000e+00, -0.0000e+00, -0.0000e+00],\n",
              "        [ 0.0000e+00,  0.0000e+00,  0.0000e+00]],\n",
              "\n",
              "       [[-0.0000e+00,  0.0000e+00,  0.0000e+00],\n",
              "        [-0.0000e+00, -0.0000e+00,  0.0000e+00],\n",
              "        [-0.0000e+00, -0.0000e+00, -0.0000e+00]],\n",
              "\n",
              "       [[ 0.0000e+00,  0.0000e+00,  0.0000e+00],\n",
              "        [ 6.9700e+00, -4.7000e-01, -0.0000e+00],\n",
              "        [ 0.0000e+00, -2.3000e+00,  0.0000e+00]],\n",
              "\n",
              "       [[ 0.0000e+00, -0.0000e+00,  0.0000e+00],\n",
              "        [ 1.0000e-02, -4.4000e-01, -0.0000e+00],\n",
              "        [-1.2709e+02, -3.0000e-02,  0.0000e+00]]])"
            ]
          },
          "execution_count": 67,
          "metadata": {},
          "output_type": "execute_result"
        }
      ],
      "source": [
        "core_tensor"
      ]
    },
    {
      "cell_type": "code",
      "execution_count": null,
      "id": "654d1d82",
      "metadata": {
        "id": "654d1d82"
      },
      "outputs": [],
      "source": [
        "#suppose the given tensor is the T1 flattening of T\n",
        "T1 = np.array([[-5,4,5,2], [-1,4,7,2]])"
      ]
    },
    {
      "cell_type": "code",
      "execution_count": null,
      "id": "70b7c9d4",
      "metadata": {
        "id": "70b7c9d4",
        "outputId": "4bc1ffaa-cbe0-4c24-9ab7-8f18adc986e5"
      },
      "outputs": [
        {
          "data": {
            "text/plain": [
              "array([[-5,  4,  5,  2],\n",
              "       [-1,  4,  7,  2]])"
            ]
          },
          "execution_count": 69,
          "metadata": {},
          "output_type": "execute_result"
        }
      ],
      "source": [
        "T1"
      ]
    },
    {
      "cell_type": "code",
      "execution_count": null,
      "id": "3dfc6f2f",
      "metadata": {
        "id": "3dfc6f2f"
      },
      "outputs": [],
      "source": [
        "#unflattening T1 to obtain the original tensor T\n",
        "T = rank3_first_unflattening(T1, np.zeros(shape = (2,2,2)))"
      ]
    },
    {
      "cell_type": "code",
      "execution_count": null,
      "id": "99815123",
      "metadata": {
        "id": "99815123",
        "outputId": "96fe3481-e514-4840-f339-8c79cd8ae139"
      },
      "outputs": [
        {
          "data": {
            "text/plain": [
              "array([[[ 7.,  2.],\n",
              "        [ 5.,  2.]],\n",
              "\n",
              "       [[-1.,  4.],\n",
              "        [-5.,  4.]]])"
            ]
          },
          "execution_count": 71,
          "metadata": {},
          "output_type": "execute_result"
        }
      ],
      "source": [
        "T"
      ]
    },
    {
      "cell_type": "code",
      "execution_count": null,
      "id": "4ad4c080",
      "metadata": {
        "id": "4ad4c080"
      },
      "outputs": [],
      "source": [
        "#calculating SVD of T(1), T(2), T(3)\n",
        "u1, s1, vt1 = np.linalg.svd(rank3_first_flattening(T), full_matrices = True)\n",
        "u2, s2, vt2 = np.linalg.svd(rank3_second_flattening(T), full_matrices = True)\n",
        "u3, s3, vt3 = np.linalg.svd(rank3_third_flattening(T), full_matrices = True)\n",
        "#calculating the core tensor for the HOSVD of T\n",
        "core_tensor_ex5 = get_core_tensor(T, u1, u2, u3)"
      ]
    },
    {
      "cell_type": "code",
      "execution_count": null,
      "id": "a88b2dc4",
      "metadata": {
        "id": "a88b2dc4",
        "outputId": "c2581ee6-00f4-4b49-ef9f-a8d734e667c2"
      },
      "outputs": [
        {
          "data": {
            "text/plain": [
              "array([[[ 3.16,  0.  ],\n",
              "        [-0.  , -6.32]],\n",
              "\n",
              "       [[-0.  ,  0.  ],\n",
              "        [-9.49,  0.  ]]])"
            ]
          },
          "execution_count": 73,
          "metadata": {},
          "output_type": "execute_result"
        }
      ],
      "source": [
        "core_tensor_ex5"
      ]
    },
    {
      "cell_type": "code",
      "execution_count": null,
      "id": "1bdaa212",
      "metadata": {
        "id": "1bdaa212"
      },
      "outputs": [],
      "source": [
        "#using the tensorly library to check for the correctness of our result\n",
        "import tensorly as tl\n",
        "from tensorly.decomposition import tucker\n",
        "core, factors = tl.decomposition.tucker(T, rank=[2, 2,2])"
      ]
    },
    {
      "cell_type": "code",
      "execution_count": null,
      "id": "2da06f65",
      "metadata": {
        "id": "2da06f65",
        "outputId": "825e1d99-d7ee-4371-a3b8-1b892b0c80df"
      },
      "outputs": [
        {
          "data": {
            "text/plain": [
              "array([[[-9.49, -0.  ],\n",
              "        [ 0.  ,  0.  ]],\n",
              "\n",
              "       [[ 0.  , -6.32],\n",
              "        [ 3.16, -0.  ]]])"
            ]
          },
          "execution_count": 75,
          "metadata": {},
          "output_type": "execute_result"
        }
      ],
      "source": [
        "np.around(core, decimals = 2)"
      ]
    },
    {
      "cell_type": "code",
      "execution_count": null,
      "id": "492be076",
      "metadata": {
        "id": "492be076"
      },
      "outputs": [],
      "source": [
        "#Example: \n",
        "#Assuming that the provided matrix is the T(2) flattening of the original tensor\n",
        "T2 = np.array([ [1,2,3,4], [5,6,7,8]])\n",
        "#unflatten to obtain the original tensor T\n",
        "T = rank3_second_unflattening(T2, np.empty(shape = (2,2,2)))"
      ]
    },
    {
      "cell_type": "code",
      "execution_count": null,
      "id": "d492ab0b",
      "metadata": {
        "id": "d492ab0b"
      },
      "outputs": [],
      "source": [
        "#calculating the first flattening\n",
        "T1 = rank3_first_flattening(T)"
      ]
    },
    {
      "cell_type": "code",
      "execution_count": null,
      "id": "78868388",
      "metadata": {
        "id": "78868388",
        "outputId": "ca859118-ca0c-4647-e3a5-1dabb2448017"
      },
      "outputs": [
        {
          "data": {
            "text/plain": [
              "array([[1., 5., 2., 6.],\n",
              "       [3., 7., 4., 8.]])"
            ]
          },
          "execution_count": 78,
          "metadata": {},
          "output_type": "execute_result"
        }
      ],
      "source": [
        "T1"
      ]
    },
    {
      "cell_type": "code",
      "execution_count": null,
      "id": "3a048575",
      "metadata": {
        "id": "3a048575"
      },
      "outputs": [],
      "source": [
        "#calculating the second flattening\n",
        "T2 = rank3_second_flattening(T)"
      ]
    },
    {
      "cell_type": "code",
      "execution_count": null,
      "id": "cc402d44",
      "metadata": {
        "id": "cc402d44",
        "outputId": "dbb7daee-7a97-45dd-f1f9-246aaa9d30c4"
      },
      "outputs": [
        {
          "data": {
            "text/plain": [
              "array([[1., 2., 3., 4.],\n",
              "       [5., 6., 7., 8.]])"
            ]
          },
          "execution_count": 80,
          "metadata": {},
          "output_type": "execute_result"
        }
      ],
      "source": [
        "T2"
      ]
    },
    {
      "cell_type": "code",
      "execution_count": null,
      "id": "14eebf0e",
      "metadata": {
        "id": "14eebf0e"
      },
      "outputs": [],
      "source": [
        "#calculating the third flattening\n",
        "T3 = rank3_third_flattening(T)"
      ]
    },
    {
      "cell_type": "code",
      "execution_count": null,
      "id": "668855e7",
      "metadata": {
        "id": "668855e7",
        "outputId": "ba923bee-14c9-4512-c908-252ee2d86629"
      },
      "outputs": [
        {
          "data": {
            "text/plain": [
              "array([[1., 5., 3., 7.],\n",
              "       [2., 6., 4., 8.]])"
            ]
          },
          "execution_count": 82,
          "metadata": {},
          "output_type": "execute_result"
        }
      ],
      "source": [
        "T3"
      ]
    },
    {
      "cell_type": "code",
      "execution_count": null,
      "id": "62dbe2a6",
      "metadata": {
        "id": "62dbe2a6"
      },
      "outputs": [],
      "source": [
        "#calculating the core tensor for the HOSVD for T\n",
        "\n",
        "u1, s1, vt1 = np.linalg.svd(rank3_first_flattening(T), full_matrices = True)\n",
        "u2, s2, vt2 = np.linalg.svd(rank3_second_flattening(T), full_matrices = True)\n",
        "u3, s3, vt3 = np.linalg.svd(rank3_third_flattening(T), full_matrices = True)\n",
        "\n",
        "core_tensor_ex7 = get_core_tensor(T, u1, u2, u3)"
      ]
    },
    {
      "cell_type": "code",
      "execution_count": null,
      "id": "0ee58a7c",
      "metadata": {
        "id": "0ee58a7c",
        "outputId": "9765e87f-7b2c-47d7-f117-02acd354698d"
      },
      "outputs": [
        {
          "data": {
            "text/plain": [
              "array([[[ 2.400e-01,  2.000e-01],\n",
              "        [ 2.000e-02,  5.400e-01]],\n",
              "\n",
              "       [[ 1.000e-02,  1.120e+00],\n",
              "        [-1.423e+01,  0.000e+00]]])"
            ]
          },
          "execution_count": 84,
          "metadata": {},
          "output_type": "execute_result"
        }
      ],
      "source": [
        "core_tensor_ex7"
      ]
    },
    {
      "cell_type": "code",
      "execution_count": null,
      "id": "4c88de55",
      "metadata": {
        "id": "4c88de55"
      },
      "outputs": [],
      "source": [
        "#checking the result with tensorly library\n",
        "core, factors = tl.decomposition.tucker(T, rank=[2, 2,2])"
      ]
    },
    {
      "cell_type": "code",
      "execution_count": null,
      "id": "fc5ce1ee",
      "metadata": {
        "id": "fc5ce1ee",
        "outputId": "b1323022-0dda-4d87-dd7d-953e0e6a6c67"
      },
      "outputs": [
        {
          "data": {
            "text/plain": [
              "array([[[-1.423e+01,  0.000e+00],\n",
              "        [-1.000e-02, -1.120e+00]],\n",
              "\n",
              "       [[-2.000e-02, -5.400e-01],\n",
              "        [ 2.400e-01,  2.000e-01]]])"
            ]
          },
          "execution_count": 86,
          "metadata": {},
          "output_type": "execute_result"
        }
      ],
      "source": [
        "np.around(core, decimals = 2)"
      ]
    },
    {
      "cell_type": "code",
      "execution_count": null,
      "id": "762658ac",
      "metadata": {
        "id": "762658ac"
      },
      "outputs": [],
      "source": []
    }
  ],
  "metadata": {
    "kernelspec": {
      "display_name": "Python 3 (ipykernel)",
      "language": "python",
      "name": "python3"
    },
    "language_info": {
      "codemirror_mode": {
        "name": "ipython",
        "version": 3
      },
      "file_extension": ".py",
      "mimetype": "text/x-python",
      "name": "python",
      "nbconvert_exporter": "python",
      "pygments_lexer": "ipython3",
      "version": "3.8.12"
    },
    "colab": {
      "provenance": []
    }
  },
  "nbformat": 4,
  "nbformat_minor": 5
}
